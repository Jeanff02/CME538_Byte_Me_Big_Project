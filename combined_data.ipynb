{
 "cells": [
  {
   "cell_type": "code",
   "execution_count": 1,
   "id": "c8d0c59f",
   "metadata": {},
   "outputs": [],
   "source": [
    "import pandas as pd"
   ]
  },
  {
   "cell_type": "code",
   "execution_count": 2,
   "id": "2c655b13",
   "metadata": {},
   "outputs": [],
   "source": [
    "qs_data = pd.read_csv('qs_data.csv')\n",
    "scorecard_data = pd.read_csv('scorecard_data.csv')\n",
    "ntu_data = pd.read_csv('ntu_research_ranking.csv')\n",
    "size_data = pd.read_csv('campus_data.csv')\n",
    "sentiment_data = pd.read_csv('RMP_Data_Clean_Organized.csv')"
   ]
  },
  {
   "cell_type": "code",
   "execution_count": 3,
   "id": "318f76f3",
   "metadata": {},
   "outputs": [],
   "source": [
    "qs_data = qs_data[['institution',\n",
    "                   'ar score',\n",
    "                   'er score',\n",
    "                   'isr score',\n",
    "                   'fsr score',\n",
    "                   'ifr score']]"
   ]
  },
  {
   "cell_type": "code",
   "execution_count": 4,
   "id": "f7432d36",
   "metadata": {},
   "outputs": [],
   "source": [
    "standard_names = ['Princeton University',\n",
    " 'Massachusetts Institute of Technology',\n",
    " 'Harvard University',\n",
    " 'Stanford University',\n",
    " 'Yale University',\n",
    " 'California Institute of Technology',\n",
    " 'Duke University',\n",
    " 'Johns Hopkins University',\n",
    " 'Northwestern University',\n",
    " 'University of Pennsylvania',\n",
    " 'Cornell University',\n",
    " 'University of Chicago',\n",
    " 'Brown University',\n",
    " 'Columbia University',\n",
    " 'Dartmouth College',\n",
    " 'University of California, Los Angeles',\n",
    " 'University of California, Berkeley',\n",
    " 'Rice University',\n",
    " 'University of Notre Dame',\n",
    " 'Vanderbilt University',\n",
    " 'Carnegie Mellon University',\n",
    " 'University of Michigan, Ann Arbor',\n",
    " 'Washington University',\n",
    " 'Emory University',\n",
    " 'Georgetown University',\n",
    " 'University of Virginia',\n",
    " 'University of North Carolina, Chapel Hill',\n",
    " 'University of Southern California',\n",
    " 'University of California, San Diego',\n",
    " 'New York University',\n",
    " 'University of Florida',\n",
    " 'University of Texas, Austin',\n",
    " 'Georgia Institute of Technology',\n",
    " 'University of California, Davis',\n",
    " 'University of California, Irvine',\n",
    " 'University of Illinois, Urbana-Champaign',\n",
    " 'Boston College',\n",
    " 'Tufts University',\n",
    " 'University of California, Santa Barbara',\n",
    " 'University of Wisconsin, Madison',\n",
    " 'Boston University',\n",
    " 'Ohio State University, Columbus',\n",
    " 'Rutgers University, New Brunswick',\n",
    " 'University of Maryland, College Park',\n",
    " 'University of Rochester',\n",
    " 'Lehigh University',\n",
    " 'Purdue University',\n",
    " 'University of Georgia',\n",
    " 'University of Washington',\n",
    " 'Wake Forest University']"
   ]
  },
  {
   "cell_type": "code",
   "execution_count": 5,
   "id": "499478a1",
   "metadata": {},
   "outputs": [],
   "source": [
    "from fuzzywuzzy import process\n",
    "\n",
    "def standardize_column_values(df, column, standard_names, threshold=80):\n",
    "\n",
    "    updated_values = []\n",
    "    \n",
    "    for value in df[column]:\n",
    "        match, score = process.extractOne(value, standard_names)\n",
    "        if score >= threshold:\n",
    "            updated_values.append(match)  # Use the matched standard name\n",
    "        else:\n",
    "            updated_values.append(value)  # Keep the original name if no good match\n",
    "    \n",
    "    df[column] = updated_values\n",
    "    return df"
   ]
  },
  {
   "cell_type": "code",
   "execution_count": 6,
   "id": "aacebd51",
   "metadata": {},
   "outputs": [],
   "source": [
    "ntu_data = standardize_column_values(ntu_data, 'University Name', standard_names, threshold=80)\n",
    "qs_data = standardize_column_values(qs_data, 'institution', standard_names, threshold=80)\n",
    "size_data = standardize_column_values(size_data, 'College or University', standard_names, threshold=80)\n",
    "scorecard_data = standardize_column_values(scorecard_data, 'University Name', standard_names, threshold=80)\n",
    "sentiment_data = standardize_column_values(sentiment_data, 'University', standard_names, threshold=80)\n",
    "\n",
    "size_data.rename(columns={'College or University': 'University Name'}, inplace=True)\n",
    "qs_data.rename(columns={'institution': 'University Name'}, inplace=True)\n",
    "sentiment_data.rename(columns={'University': 'University Name'}, inplace=True)\n",
    "\n",
    "size_data.loc[11, 'University Name'] = 'Ohio State University, Columbus'\n",
    "qs_data.loc[31, 'University Name'] = 'Ohio State University, Columbus'"
   ]
  },
  {
   "cell_type": "code",
   "execution_count": 7,
   "id": "34600c78",
   "metadata": {},
   "outputs": [],
   "source": [
    "merged_df = scorecard_data.merge(ntu_data, on='University Name', how='outer') \\\n",
    "                          .merge(qs_data, on='University Name', how='outer') \\\n",
    "                          .merge(size_data, on='University Name', how='outer') \\\n",
    "                          .merge(sentiment_data, on='University Name', how='outer')\n",
    "\n",
    "merged_df = merged_df.drop_duplicates(subset=['University Name']).reset_index(drop=True)\n",
    "\n",
    "merged_df['University ID'] = range(1, len(merged_df) + 1)"
   ]
  },
  {
   "cell_type": "code",
   "execution_count": 8,
   "id": "0a6b9c1b",
   "metadata": {
    "scrolled": false
   },
   "outputs": [],
   "source": [
    "merged_df.to_csv('merged_datasets.csv',index=False)"
   ]
  }
 ],
 "metadata": {
  "kernelspec": {
   "display_name": "Python 3",
   "language": "python",
   "name": "python3"
  },
  "language_info": {
   "codemirror_mode": {
    "name": "ipython",
    "version": 3
   },
   "file_extension": ".py",
   "mimetype": "text/x-python",
   "name": "python",
   "nbconvert_exporter": "python",
   "pygments_lexer": "ipython3",
   "version": "3.8.8"
  }
 },
 "nbformat": 4,
 "nbformat_minor": 5
}
